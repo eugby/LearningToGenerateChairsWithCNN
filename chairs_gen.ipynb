{
 "cells": [
  {
   "cell_type": "code",
   "execution_count": 2,
   "metadata": {
    "collapsed": true
   },
   "outputs": [],
   "source": [
    "import torch\n",
    "import torch.nn as nn\n",
    "import torch.nn.fucntional as F\n",
    "\n",
    "class ChairsGeneratorCNN(nn.Module):\n",
    "    def __init__(self):\n",
    "        super(ChairsGeneratorCNN,self).__init__()\n",
    "        ## Initialization the first part of the network: five fully-connected layers\n",
    "        self.fc_1_class = nn.Linear(809,512)\n",
    "        self.fc_1_view = nn.Linear(4,512)\n",
    "        self.fc_1_trasnform_params = nn.Linear(8,512)\n",
    "        self.fc_2 = nn.Linear(512,512)\n",
    "        self.fc_3 = nn.Linear(1536,1024)\n",
    "        self.fc_4 = nn.Linear(1024,1024)\n",
    "        self.fc_5_rgb = nn.Linear(1024,8*8*256)\n",
    "        self.fc_5_mask = nn.Linear(1024,8*8*128)\n",
    "        ## Initialization the second part of the network: deconvolutional network\n",
    "        ##For RGB part\n",
    "        self.uconv1_rgb = nn.ConvTranspose2d(256,256,5)\n",
    "        self.uconv2_rgb = nn.ConvTranspose2d(256,92,5)\n",
    "        self.uconv3_rgb = nn.ConvTranspose2d(92,92,5)\n",
    "        self.uconv4_rgb = nn.ConvTranspose2d(92,3,5)\n",
    "        ##For mask part\n",
    "        self.uconv1_rgb = nn.ConvTranspose2d(128,128,5)\n",
    "        self.uconv2_rgb = nn.ConvTranspose2d(128,32,5)\n",
    "        self.uconv3_rgb = nn.ConvTranspose2d(32,32,5)\n",
    "        self.uconv4_rgb = nn.ConvTranspose2d(32,1,5)\n",
    "        \n",
    "    def forward(self,input):\n",
    "        x1 = F.relu(self.fc_1_class(input[0]))\n",
    "        x2 = F.relu(self.fc_1_view(input[1]))\n",
    "        x3 = F.relu(self.fc_1_trasnform_params(input[2]))\n",
    "        #need append here\n",
    "        x = x\n",
    "\n",
    "\n",
    "        \n"
   ]
  },
  {
   "cell_type": "code",
   "execution_count": null,
   "metadata": {
    "collapsed": true
   },
   "outputs": [],
   "source": []
  }
 ],
 "metadata": {
  "kernelspec": {
   "display_name": "Python 3",
   "language": "python",
   "name": "python3"
  },
  "language_info": {
   "codemirror_mode": {
    "name": "ipython",
    "version": 3
   },
   "file_extension": ".py",
   "mimetype": "text/x-python",
   "name": "python",
   "nbconvert_exporter": "python",
   "pygments_lexer": "ipython3",
   "version": "3.6.3"
  }
 },
 "nbformat": 4,
 "nbformat_minor": 2
}
